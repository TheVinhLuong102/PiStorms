{
 "cells": [
  {
   "cell_type": "code",
   "execution_count": 2,
   "metadata": {},
   "outputs": [
    {
     "ename": "error",
     "evalue": "video system not initialized",
     "output_type": "error",
     "traceback": [
      "\u001b[0;31m\u001b[0m",
      "\u001b[0;31merror\u001b[0mTraceback (most recent call last)",
      "\u001b[0;32m<ipython-input-2-1989d762c683>\u001b[0m in \u001b[0;36m<module>\u001b[0;34m()\u001b[0m\n\u001b[1;32m     13\u001b[0m \u001b[0;32mimport\u001b[0m \u001b[0mtime\u001b[0m\u001b[0;34m\u001b[0m\u001b[0m\n\u001b[1;32m     14\u001b[0m \u001b[0;32mwhile\u001b[0m \u001b[0;32mnot\u001b[0m \u001b[0mpsm\u001b[0m\u001b[0;34m.\u001b[0m\u001b[0misKeyPressed\u001b[0m\u001b[0;34m(\u001b[0m\u001b[0;34m)\u001b[0m\u001b[0;34m:\u001b[0m\u001b[0;34m\u001b[0m\u001b[0m\n\u001b[0;32m---> 15\u001b[0;31m     \u001b[0mpygame\u001b[0m\u001b[0;34m.\u001b[0m\u001b[0mevent\u001b[0m\u001b[0;34m.\u001b[0m\u001b[0mpump\u001b[0m\u001b[0;34m(\u001b[0m\u001b[0;34m)\u001b[0m\u001b[0;34m\u001b[0m\u001b[0m\n\u001b[0m\u001b[1;32m     16\u001b[0m     \u001b[0ml\u001b[0m\u001b[0;34m.\u001b[0m\u001b[0msetSpeed\u001b[0m\u001b[0;34m(\u001b[0m\u001b[0mjoystick\u001b[0m\u001b[0;34m.\u001b[0m\u001b[0mget_axis\u001b[0m\u001b[0;34m(\u001b[0m\u001b[0;36m1\u001b[0m\u001b[0;34m)\u001b[0m\u001b[0;34m*\u001b[0m\u001b[0;36m100\u001b[0m\u001b[0;34m)\u001b[0m\u001b[0;34m\u001b[0m\u001b[0m\n\u001b[1;32m     17\u001b[0m     \u001b[0mr\u001b[0m\u001b[0;34m.\u001b[0m\u001b[0msetSpeed\u001b[0m\u001b[0;34m(\u001b[0m\u001b[0mjoystick\u001b[0m\u001b[0;34m.\u001b[0m\u001b[0mget_axis\u001b[0m\u001b[0;34m(\u001b[0m\u001b[0;36m3\u001b[0m\u001b[0;34m)\u001b[0m\u001b[0;34m*\u001b[0m\u001b[0;36m100\u001b[0m\u001b[0;34m)\u001b[0m\u001b[0;34m\u001b[0m\u001b[0m\n",
      "\u001b[0;31merror\u001b[0m: video system not initialized"
     ]
    }
   ],
   "source": [
    "from PiStorms_GRX import PiStorms_GRX\n",
    "psm = PiStorms_GRX()\n",
    "\n",
    "from PiStorms_GRX import RCServo\n",
    "l = RCServo(\"BAM1\")\n",
    "r = RCServo(\"BAM2\")\n",
    "\n",
    "import pygame\n",
    "pygame.init()\n",
    "joystick = pygame.joystick.Joystick(0)\n",
    "joystick.init()\n",
    "\n",
    "import time\n",
    "while not psm.isKeyPressed():\n",
    "    pygame.event.pump()\n",
    "    l.setSpeed(joystick.get_axis(1)*100)\n",
    "    r.setSpeed(joystick.get_axis(3)*100)\n",
    "    time.sleep(0.05)\n"
   ]
  },
  {
   "cell_type": "code",
   "execution_count": null,
   "metadata": {
    "collapsed": true
   },
   "outputs": [],
   "source": [
    "from PiStorms_GRX import PiStorms_GRX\n",
    "psm = PiStorms_GRX()\n",
    "\n",
    "import pygame\n",
    "pygame.init()\n",
    "\n",
    "import os\n",
    "#os.environ[\"SDL_VIDEODRIVER\"] = \"dummy\"\n",
    "os.putenv('SDL_VIDEODRIVER', 'fbcon')\n",
    "pygame.display.init()\n",
    "\n",
    "joystick = pygame.joystick.Joystick(0)\n",
    "joystick.init()\n",
    "\n",
    "while not psm.isKeyPressed():\n",
    "    pygame.event.pump()\n",
    "    print(joystick.get_axis(1) * 100)\n",
    "    print(joystick.get_axis(4) * 100)\n"
   ]
  },
  {
   "cell_type": "code",
   "execution_count": null,
   "metadata": {
    "collapsed": true
   },
   "outputs": [],
   "source": [
    "import pygame, sys, time\n",
    "#from pygame.locals import *\n",
    " \n",
    "pygame.init()\n",
    "#pygame.joystick.init()\n",
    "joystick = pygame.joystick.Joystick(0)\n",
    "joystick.init()\n",
    "#screen = pygame.display.set_mode((400,300))\n",
    "#pygame.display.set_caption('Hello World')\n",
    " \n",
    "interval = 0.01\n",
    " \n",
    "# get count of joysticks=1, axes=27, buttons=19 for DualShock 3\n",
    " \n",
    "joystick_count = pygame.joystick.get_count()\n",
    "print(\"joystick_count\")\n",
    "print(joystick_count)\n",
    "print(\"--------------\")\n",
    " \n",
    "numaxes = joystick.get_numaxes()\n",
    "print(\"numaxes\")\n",
    "print(numaxes)\n",
    "print(\"--------------\")\n",
    " \n",
    "numbuttons = joystick.get_numbuttons()\n",
    "print(\"numbuttons\")\n",
    "print(numbuttons)\n",
    "print(\"--------------\")\n",
    " \n",
    "loopQuit = False\n",
    "while loopQuit == False:\n",
    " \n",
    "    # test joystick axes\n",
    "    outstr = \"\"\n",
    "    for i in range(0,4):\n",
    "        axis = joystick.get_axis(i)\n",
    "        outstr = outstr + str(i) + \":\" + str(axis) + \"|\"\n",
    "        print(outstr)\n",
    " \n",
    "    # test controller buttons\n",
    "    outstr = \"\"\n",
    "    for i in range(0,numbuttons):\n",
    "            button = joystick.get_button(i)\n",
    "            outstr = outstr + str(i) + \":\" + str(button) + \"|\"\n",
    "    print(outstr)\n",
    "\n",
    "        pygame.event.pump()\n",
    "    #for event in pygame.event.get():\n",
    "        #    if event.type == QUIT:\n",
    "        #        loopQuit = True\n",
    "            #elif event.type == pygame.KEYDOWN:\n",
    "            #    if event.key == pygame.K_ESCAPE:\n",
    "            #        loopQuit = True\n",
    "                \n",
    "        # other event tests, but polling seems to work better in main loop\n",
    "        # if event.type == pygame.JOYBUTTONDOWN:\n",
    "        #    print(\"joy button down\")\n",
    "        # if event.type == pygame.JOYBUTTONUP:\n",
    "        #    print(\"joy button up\")\n",
    "        # if event.type == pygame.JOYBALLMOTION:\n",
    "        #    print(\"joy ball motion\")\n",
    "        # axis motion is movement of controller\n",
    "        # dominates events when used\n",
    "        # if event.type == pygame.JOYAXISMOTION:\n",
    "            # print(\"joy axis motion\")\n",
    " \n",
    "    # pygame.display.update()\n",
    "    time.sleep(interval)\n",
    " \n",
    "pygame.quit()\n",
    "sys.exit()\n"
   ]
  }
 ],
 "metadata": {
  "kernelspec": {
   "display_name": "Python 2",
   "language": "python",
   "name": "python2"
  },
  "language_info": {
   "codemirror_mode": {
    "name": "ipython",
    "version": 2
   },
   "file_extension": ".py",
   "mimetype": "text/x-python",
   "name": "python",
   "nbconvert_exporter": "python",
   "pygments_lexer": "ipython2",
   "version": "2.7.9"
  }
 },
 "nbformat": 4,
 "nbformat_minor": 2
}
