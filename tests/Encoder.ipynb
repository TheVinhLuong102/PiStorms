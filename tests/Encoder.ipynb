{
 "cells": [
  {
   "cell_type": "markdown",
   "metadata": {},
   "source": [
    "## Here's an example of using Encoders on the PiStorms-GRX!\n",
    "Use **Shift+Enter** to execute a cell.<br>\n",
    "Or, use **Cell &rarr; Run All**."
   ]
  },
  {
   "cell_type": "markdown",
   "metadata": {},
   "source": [
    "Define some constants (also defined in GRXCom)."
   ]
  },
  {
   "cell_type": "code",
   "execution_count": 1,
   "metadata": {},
   "outputs": [
    {
     "data": {
      "text/plain": [
       "'\\nfrom PiStorms_GRX import GRXCom\\nGRX_SD1_Base = GRXCom.GRX_SD1_Base\\nGRX_SD2_Base = GRXCom.GRX_SD2_Base\\n_TAC2X = GRXCom._TAC2X\\ndel GRXCom\\n'"
      ]
     },
     "execution_count": 1,
     "metadata": {},
     "output_type": "execute_result"
    }
   ],
   "source": [
    "GRX_SA1_Base = 0x48\n",
    "GRX_SA2_Base = 0x5E\n",
    "GRX_SA3_Base = 0x74\n",
    "GRX_SD1_Base = 0x8A\n",
    "GRX_SD2_Base = 0xA0\n",
    "_TAC2X = 5\n",
    "'''\n",
    "from PiStorms_GRX import GRXCom\n",
    "GRX_SD1_Base = GRXCom.GRX_SD1_Base\n",
    "GRX_SD2_Base = GRXCom.GRX_SD2_Base\n",
    "_TAC2X = GRXCom._TAC2X\n",
    "del GRXCom\n",
    "'''"
   ]
  },
  {
   "cell_type": "markdown",
   "metadata": {},
   "source": [
    "Create an instance of `PiStorms_GRX` to snag its `GRXCom` and thereby `mindsensors_i2c` instance."
   ]
  },
  {
   "cell_type": "code",
   "execution_count": 2,
   "metadata": {
    "collapsed": true
   },
   "outputs": [],
   "source": [
    "from PiStorms_GRX import PiStorms_GRX\n",
    "psm = PiStorms_GRX()\n",
    "i2c = psm.psc.bankB"
   ]
  },
  {
   "cell_type": "markdown",
   "metadata": {},
   "source": [
    "Configure the mode of BAD1 to tachometer, for it to be used as an encoder for BAS1."
   ]
  },
  {
   "cell_type": "code",
   "execution_count": 3,
   "metadata": {
    "collapsed": true
   },
   "outputs": [],
   "source": [
    "i2c.writeArray(GRX_SD1_Base, [_TAC2X, 1])"
   ]
  },
  {
   "cell_type": "markdown",
   "metadata": {},
   "source": [
    "Define some helper functions to convert a signed integer for a 4-byte array, and vice versa."
   ]
  },
  {
   "cell_type": "code",
   "execution_count": 4,
   "metadata": {
    "collapsed": true
   },
   "outputs": [],
   "source": [
    "import struct\n",
    "from functools import partial\n",
    "int2arr = lambda n: map(lambda b: struct.unpack('B', b)[0], struct.pack('l', n))\n",
    "arr2int = lambda n: struct.unpack('l', ''.join(map(partial(struct.pack, 'B'), n)))[0]"
   ]
  },
  {
   "cell_type": "markdown",
   "metadata": {},
   "source": [
    "Set the target of BAD1 (associated with BAS1) to encoder position 100.<br>\n",
    "Try changing 100 to a different value and use **Shift+Enter** to run it!"
   ]
  },
  {
   "cell_type": "code",
   "execution_count": 35,
   "metadata": {
    "collapsed": true
   },
   "outputs": [],
   "source": [
    "i2c.writeArray(GRX_SD1_Base+8, int2arr(-40))"
   ]
  },
  {
   "cell_type": "markdown",
   "metadata": {},
   "source": [
    "Read the current encoder value on BAD1"
   ]
  },
  {
   "cell_type": "code",
   "execution_count": 36,
   "metadata": {},
   "outputs": [
    {
     "data": {
      "text/plain": [
       "-41"
      ]
     },
     "execution_count": 36,
     "metadata": {},
     "output_type": "execute_result"
    }
   ],
   "source": [
    "arr2int(i2c.readArray(GRX_SD1_Base+4, 4))"
   ]
  },
  {
   "cell_type": "markdown",
   "metadata": {},
   "source": [
    "Monitor the encoder value"
   ]
  },
  {
   "cell_type": "code",
   "execution_count": 28,
   "metadata": {},
   "outputs": [
    {
     "name": "stdout",
     "output_type": "stream",
     "text": [
      "    0: \u001b[31m                                                                                                    \u001b[0m"
     ]
    },
    {
     "ename": "KeyboardInterrupt",
     "evalue": "",
     "output_type": "error",
     "traceback": [
      "\u001b[0;31m\u001b[0m",
      "\u001b[0;31mKeyboardInterrupt\u001b[0mTraceback (most recent call last)",
      "\u001b[0;32m<ipython-input-28-a3cafa6020d0>\u001b[0m in \u001b[0;36m<module>\u001b[0;34m()\u001b[0m\n\u001b[1;32m      9\u001b[0m \u001b[0;32mwhile\u001b[0m \u001b[0;32mnot\u001b[0m \u001b[0mpsm\u001b[0m\u001b[0;34m.\u001b[0m\u001b[0misKeyPressed\u001b[0m\u001b[0;34m(\u001b[0m\u001b[0;34m)\u001b[0m\u001b[0;34m:\u001b[0m\u001b[0;34m\u001b[0m\u001b[0m\n\u001b[1;32m     10\u001b[0m     \u001b[0mp\u001b[0m\u001b[0;34m(\u001b[0m\u001b[0mgetenc\u001b[0m\u001b[0;34m(\u001b[0m\u001b[0;34m)\u001b[0m\u001b[0;34m)\u001b[0m\u001b[0;34m\u001b[0m\u001b[0m\n\u001b[0;32m---> 11\u001b[0;31m     \u001b[0mtime\u001b[0m\u001b[0;34m.\u001b[0m\u001b[0msleep\u001b[0m\u001b[0;34m(\u001b[0m\u001b[0;36m0.1\u001b[0m\u001b[0;34m)\u001b[0m\u001b[0;34m\u001b[0m\u001b[0m\n\u001b[0m",
      "\u001b[0;31mKeyboardInterrupt\u001b[0m: "
     ]
    }
   ],
   "source": [
    "from __future__ import print_function\n",
    "import time\n",
    "getenc = lambda: arr2int(i2c.readArray(GRX_SD1_Base+4, 4))\n",
    "def p(n):\n",
    "    v = int(str(abs(n))[:2]) # most-significant two digits\n",
    "    c = (31 if n<1 else 32) + (abs(n)>100)*60 # ANSI color code\n",
    "    print(u\"\\r{num:5d}: \\033[{color}m{bar}{blank}\\033[0m\".format(\n",
    "            num=n, bar=unichr(0x2588)*v, blank=\" \"*(100-v), color=c), end=\"\")\n",
    "while not psm.isKeyPressed():\n",
    "    p(getenc())\n",
    "    time.sleep(0.1)"
   ]
  },
  {
   "cell_type": "code",
   "execution_count": null,
   "metadata": {
    "collapsed": true
   },
   "outputs": [],
   "source": []
  }
 ],
 "metadata": {
  "kernelspec": {
   "display_name": "Python 2",
   "language": "python",
   "name": "python2"
  },
  "language_info": {
   "codemirror_mode": {
    "name": "ipython",
    "version": 2
   },
   "file_extension": ".py",
   "mimetype": "text/x-python",
   "name": "python",
   "nbconvert_exporter": "python",
   "pygments_lexer": "ipython2",
   "version": "2.7.9"
  }
 },
 "nbformat": 4,
 "nbformat_minor": 2
}
