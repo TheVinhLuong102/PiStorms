{
 "cells": [
  {
   "cell_type": "code",
   "execution_count": 3,
   "metadata": {},
   "outputs": [],
   "source": [
    "from PiStormsCom_GRX import GRXCom, GRXBank\n",
    "GRX_SD1_Base = GRXCom.GRX_SD1_Base\n",
    "GRX_SD2_Base = GRXCom.GRX_SD2_Base\n",
    "_TAC2X = GRXBank.GRX_TYPE.ENC\n",
    "del GRXCom"
   ]
  },
  {
   "cell_type": "code",
   "execution_count": 4,
   "metadata": {
    "collapsed": true
   },
   "outputs": [],
   "source": [
    "from PiStorms_GRX import PiStorms_GRX\n",
    "psm = PiStorms_GRX()\n",
    "i2c = psm.psc.bankA"
   ]
  },
  {
   "cell_type": "code",
   "execution_count": 5,
   "metadata": {
    "collapsed": true
   },
   "outputs": [],
   "source": [
    "i2c.writeArray(GRX_SD1_Base, [_TAC2X, 1])"
   ]
  },
  {
   "cell_type": "code",
   "execution_count": 6,
   "metadata": {
    "collapsed": true
   },
   "outputs": [],
   "source": [
    "import struct\n",
    "from functools import partial\n",
    "int2arr = lambda n: map(lambda b: struct.unpack('B', b)[0], struct.pack('l', n))\n",
    "arr2int = lambda n: struct.unpack('l', ''.join(map(partial(struct.pack, 'B'), n)))[0]"
   ]
  },
  {
   "cell_type": "code",
   "execution_count": 36,
   "metadata": {
    "collapsed": true
   },
   "outputs": [],
   "source": [
    "i2c.writeArray(GRX_SD1_Base+8, int2arr(200))"
   ]
  },
  {
   "cell_type": "code",
   "execution_count": 33,
   "metadata": {
    "collapsed": true
   },
   "outputs": [],
   "source": [
    "i2c.writeArray(0xC2, [40, 1, 1, 60]) # Pn, Pd, In, Id"
   ]
  },
  {
   "cell_type": "code",
   "execution_count": null,
   "metadata": {
    "collapsed": true
   },
   "outputs": [],
   "source": []
  }
 ],
 "metadata": {
  "kernelspec": {
   "display_name": "Python 2",
   "language": "python",
   "name": "python2"
  },
  "language_info": {
   "codemirror_mode": {
    "name": "ipython",
    "version": 2
   },
   "file_extension": ".py",
   "mimetype": "text/x-python",
   "name": "python",
   "nbconvert_exporter": "python",
   "pygments_lexer": "ipython2",
   "version": "2.7.9"
  }
 },
 "nbformat": 4,
 "nbformat_minor": 2
}
