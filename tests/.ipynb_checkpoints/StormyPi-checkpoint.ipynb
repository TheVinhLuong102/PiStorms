{
 "cells": [
  {
   "cell_type": "code",
   "execution_count": 6,
   "metadata": {
    "collapsed": true
   },
   "outputs": [
    {
     "ename": "AttributeError",
     "evalue": "'list' object attribute '__getitem__' is read-only",
     "output_type": "error",
     "traceback": [
      "\u001b[0;31m\u001b[0m",
      "\u001b[0;31mAttributeError\u001b[0mTraceback (most recent call last)",
      "\u001b[0;32m<ipython-input-6-d80b3f31b110>\u001b[0m in \u001b[0;36m<module>\u001b[0;34m()\u001b[0m\n\u001b[0;32m----> 1\u001b[0;31m \u001b[0;32mclass\u001b[0m \u001b[0mStormyPi\u001b[0m\u001b[0;34m:\u001b[0m\u001b[0;34m\u001b[0m\u001b[0m\n\u001b[0m\u001b[1;32m      2\u001b[0m     \u001b[0mmotors\u001b[0m \u001b[0;34m=\u001b[0m \u001b[0;34m[\u001b[0m\u001b[0mNone\u001b[0m\u001b[0;34m,\u001b[0m \u001b[0;34m\"Motor1\"\u001b[0m\u001b[0;34m,\u001b[0m \u001b[0;34m\"Motor2\"\u001b[0m\u001b[0;34m,\u001b[0m \u001b[0;34m\"Motor3\"\u001b[0m\u001b[0;34m,\u001b[0m \u001b[0;34m\"Motor4\"\u001b[0m\u001b[0;34m]\u001b[0m\u001b[0;34m\u001b[0m\u001b[0m\n\u001b[1;32m      3\u001b[0m     \u001b[0;32mdef\u001b[0m \u001b[0mget\u001b[0m\u001b[0;34m(\u001b[0m\u001b[0mself\u001b[0m\u001b[0;34m,\u001b[0m \u001b[0mitems\u001b[0m\u001b[0;34m)\u001b[0m\u001b[0;34m:\u001b[0m\u001b[0;34m\u001b[0m\u001b[0m\n\u001b[1;32m      4\u001b[0m         \u001b[0;32mprint\u001b[0m \u001b[0;34m'%-15s  %s'\u001b[0m \u001b[0;34m%\u001b[0m \u001b[0;34m(\u001b[0m\u001b[0mtype\u001b[0m\u001b[0;34m(\u001b[0m\u001b[0mitems\u001b[0m\u001b[0;34m)\u001b[0m\u001b[0;34m,\u001b[0m \u001b[0mitems\u001b[0m\u001b[0;34m)\u001b[0m\u001b[0;34m\u001b[0m\u001b[0m\n\u001b[1;32m      5\u001b[0m     \u001b[0mmotors\u001b[0m\u001b[0;34m.\u001b[0m\u001b[0m__getitem__\u001b[0m \u001b[0;34m=\u001b[0m \u001b[0mget\u001b[0m\u001b[0;34m\u001b[0m\u001b[0m\n",
      "\u001b[0;32m<ipython-input-6-d80b3f31b110>\u001b[0m in \u001b[0;36mStormyPi\u001b[0;34m()\u001b[0m\n\u001b[1;32m      3\u001b[0m     \u001b[0;32mdef\u001b[0m \u001b[0mget\u001b[0m\u001b[0;34m(\u001b[0m\u001b[0mself\u001b[0m\u001b[0;34m,\u001b[0m \u001b[0mitems\u001b[0m\u001b[0;34m)\u001b[0m\u001b[0;34m:\u001b[0m\u001b[0;34m\u001b[0m\u001b[0m\n\u001b[1;32m      4\u001b[0m         \u001b[0;32mprint\u001b[0m \u001b[0;34m'%-15s  %s'\u001b[0m \u001b[0;34m%\u001b[0m \u001b[0;34m(\u001b[0m\u001b[0mtype\u001b[0m\u001b[0;34m(\u001b[0m\u001b[0mitems\u001b[0m\u001b[0;34m)\u001b[0m\u001b[0;34m,\u001b[0m \u001b[0mitems\u001b[0m\u001b[0;34m)\u001b[0m\u001b[0;34m\u001b[0m\u001b[0m\n\u001b[0;32m----> 5\u001b[0;31m     \u001b[0mmotors\u001b[0m\u001b[0;34m.\u001b[0m\u001b[0m__getitem__\u001b[0m \u001b[0;34m=\u001b[0m \u001b[0mget\u001b[0m\u001b[0;34m\u001b[0m\u001b[0m\n\u001b[0m\u001b[1;32m      6\u001b[0m \u001b[0;34m\u001b[0m\u001b[0m\n\u001b[1;32m      7\u001b[0m \u001b[0mpsm\u001b[0m \u001b[0;34m=\u001b[0m \u001b[0mStormyPi\u001b[0m\u001b[0;34m(\u001b[0m\u001b[0;34m)\u001b[0m\u001b[0;34m\u001b[0m\u001b[0m\n",
      "\u001b[0;31mAttributeError\u001b[0m: 'list' object attribute '__getitem__' is read-only"
     ]
    }
   ],
   "source": [
    "class StormyPi:\n",
    "    motors = [None, \"Motor1\", \"Motor2\", \"Motor3\", \"Motor4\"]\n",
    "    def get(self, items):\n",
    "        print '%-15s  %s' % (type(items), items)\n",
    "    motors.__getitem__ = get\n",
    "\n",
    "psm = StormyPi()\n",
    "psm.motors[0]"
   ]
  },
  {
   "cell_type": "code",
   "execution_count": 9,
   "metadata": {},
   "outputs": [
    {
     "name": "stdout",
     "output_type": "stream",
     "text": [
      "6\n"
     ]
    },
    {
     "data": {
      "text/plain": [
       "6"
      ]
     },
     "execution_count": 9,
     "metadata": {},
     "output_type": "execute_result"
    }
   ],
   "source": [
    "class StormyPi:\n",
    "    # MotorList, RestrictedList, MotorSet, OneIndexedList\n",
    "    class OneIndexedList(list):\n",
    "        def __getitem__(self, index):\n",
    "            return list.__getitem__(self, index-1)\n",
    "        def __setitem__(self, index, value):\n",
    "            return list.__setitem__(self, index-1, value)\n",
    "    motors = OneIndexedList()\n",
    "    motors.append(6)\n",
    "    print motors[1]\n",
    "    [None, \"Motor1\", \"Motor2\", \"Motor3\", \"Motor4\"]\n",
    "    def get(self, items):\n",
    "        print '%-15s  %s' % (type(items), items)\n",
    "    motors.__getitem__ = get\n",
    "\n",
    "psm = StormyPi()\n",
    "psm.motors[0]"
   ]
  },
  {
   "cell_type": "code",
   "execution_count": 25,
   "metadata": {},
   "outputs": [
    {
     "name": "stdout",
     "output_type": "stream",
     "text": [
      "[]\n"
     ]
    }
   ],
   "source": [
    "class StormyPi:\n",
    "    # MotorList, RestrictedList, MotorSet, OneIndexedList\n",
    "    class OneIndexedList(list):\n",
    "        def __init__(self, init=[]):\n",
    "            list.__init__([1]+init)\n",
    "        def __getitem__(self, index):\n",
    "            if index == 0:\n",
    "                pass#return list.__getitem__(self, -1)\n",
    "            else:\n",
    "                return list.__getitem__(self, index)\n",
    "    motors = OneIndexedList([2, 3])\n",
    "    print motors\n",
    "    [None, \"Motor1\", \"Motor2\", \"Motor3\", \"Motor4\"]\n",
    "    def get(self, items):\n",
    "        print '%-15s  %s' % (type(items), items)\n",
    "    motors.__getitem__ = get\n",
    "\n",
    "psm = StormyPi()\n",
    "psm.motors[0]"
   ]
  },
  {
   "cell_type": "code",
   "execution_count": 21,
   "metadata": {},
   "outputs": [
    {
     "data": {
      "text/plain": [
       "[0, 4]"
      ]
     },
     "execution_count": 21,
     "metadata": {},
     "output_type": "execute_result"
    }
   ],
   "source": [
    "[0]+[4]"
   ]
  },
  {
   "cell_type": "code",
   "execution_count": 53,
   "metadata": {
    "collapsed": true
   },
   "outputs": [
    {
     "name": "stdout",
     "output_type": "stream",
     "text": [
      "<function __setattr__ at 0x70feaab0>\n"
     ]
    },
    {
     "ename": "AttributeError",
     "evalue": "StormyPi instance has no attribute '__setattr__'",
     "output_type": "error",
     "traceback": [
      "\u001b[0;31m\u001b[0m",
      "\u001b[0;31mAttributeError\u001b[0mTraceback (most recent call last)",
      "\u001b[0;32m<ipython-input-53-265d1dfd5885>\u001b[0m in \u001b[0;36m<module>\u001b[0;34m()\u001b[0m\n\u001b[1;32m     23\u001b[0m \u001b[0;34m\u001b[0m\u001b[0m\n\u001b[1;32m     24\u001b[0m \u001b[0mpsm\u001b[0m \u001b[0;34m=\u001b[0m \u001b[0mStormyPi\u001b[0m\u001b[0;34m(\u001b[0m\u001b[0;34m)\u001b[0m\u001b[0;34m\u001b[0m\u001b[0m\n\u001b[0;32m---> 25\u001b[0;31m \u001b[0;32mprint\u001b[0m \u001b[0mpsm\u001b[0m\u001b[0;34m.\u001b[0m\u001b[0m__setattr__\u001b[0m\u001b[0;34m\u001b[0m\u001b[0m\n\u001b[0m\u001b[1;32m     26\u001b[0m \u001b[0;32mprint\u001b[0m \u001b[0mpsm\u001b[0m\u001b[0;34m.\u001b[0m\u001b[0mmotors\u001b[0m\u001b[0;34m.\u001b[0m\u001b[0mlist\u001b[0m\u001b[0;34m\u001b[0m\u001b[0m\n\u001b[1;32m     27\u001b[0m \u001b[0mpsm\u001b[0m\u001b[0;34m.\u001b[0m\u001b[0mmotors\u001b[0m\u001b[0;34m.\u001b[0m\u001b[0mlist\u001b[0m \u001b[0;34m=\u001b[0m \u001b[0;36m3\u001b[0m\u001b[0;34m\u001b[0m\u001b[0m\n",
      "\u001b[0;31mAttributeError\u001b[0m: StormyPi instance has no attribute '__setattr__'"
     ]
    }
   ],
   "source": [
    "class StormyPi:\n",
    "    class MotorList:\n",
    "        def __init__(self):\n",
    "            self.list = [\"Motor1\", \"Motor2\", \"Motor3\", \"Motor4\"]\n",
    "            def __setattr__(self, attribute, value):\n",
    "                raise AttributeError(\"{} does not support attribute reference (member access).\".format(type(self).__name__))\n",
    "            self.__setattr__ = __setattr__\n",
    "            print self.__setattr__\n",
    "        def __getitem__(self, index):\n",
    "            if not index-1 in range(4):\n",
    "                raise IndexError(\"Motor {} does not exist. Try using motors 1-4.\".format(index))\n",
    "            else:\n",
    "                return self.list[index-1]\n",
    "        #def __getattribute__(self, attribute):\n",
    "        #    raise AttributeError(\"{} does not support attribute reference (member access).\".format(type(self).__name__))\n",
    "        #def __setattr__(self, attribute, value):\n",
    "        #    raise AttributeError(\"{} does not support attribute reference (member access).\".format(type(self).__name__))\n",
    "        def __str__(self):\n",
    "            return self.list.__str__()\n",
    "        def __repr__(self):\n",
    "            return self.list.__repr__()\n",
    "    motors = MotorList()\n",
    "\n",
    "psm = StormyPi()\n",
    "print psm.motors.list\n",
    "psm.motors.list = 3\n",
    "print psm.motors.list\n",
    "#print psm.motors[0]\n",
    "print \"done\""
   ]
  },
  {
   "cell_type": "code",
   "execution_count": 105,
   "metadata": {},
   "outputs": [
    {
     "name": "stdout",
     "output_type": "stream",
     "text": [
      "None\n"
     ]
    },
    {
     "ename": "AttributeError",
     "evalue": "MotorList does not support attribute assignment.",
     "output_type": "error",
     "traceback": [
      "\u001b[0;31m\u001b[0m",
      "\u001b[0;31mAttributeError\u001b[0mTraceback (most recent call last)",
      "\u001b[0;32m<ipython-input-105-4697d5022c11>\u001b[0m in \u001b[0;36m<module>\u001b[0;34m()\u001b[0m\n\u001b[0;32m----> 1\u001b[0;31m \u001b[0;32mclass\u001b[0m \u001b[0mStormyPi\u001b[0m\u001b[0;34m:\u001b[0m\u001b[0;34m\u001b[0m\u001b[0m\n\u001b[0m\u001b[1;32m      2\u001b[0m     \u001b[0;32mclass\u001b[0m \u001b[0mMotorList\u001b[0m\u001b[0;34m(\u001b[0m\u001b[0mobject\u001b[0m\u001b[0;34m)\u001b[0m\u001b[0;34m:\u001b[0m\u001b[0;34m\u001b[0m\u001b[0m\n\u001b[1;32m      3\u001b[0m         \u001b[0;32mdef\u001b[0m \u001b[0m__init__\u001b[0m\u001b[0;34m(\u001b[0m\u001b[0mself\u001b[0m\u001b[0;34m)\u001b[0m\u001b[0;34m:\u001b[0m\u001b[0;34m\u001b[0m\u001b[0m\n\u001b[1;32m      4\u001b[0m             \u001b[0mself\u001b[0m\u001b[0;34m.\u001b[0m\u001b[0mlist\u001b[0m \u001b[0;34m=\u001b[0m \u001b[0;34m[\u001b[0m\u001b[0;34m\"Motor1\"\u001b[0m\u001b[0;34m,\u001b[0m \u001b[0;34m\"Motor2\"\u001b[0m\u001b[0;34m,\u001b[0m \u001b[0;34m\"Motor3\"\u001b[0m\u001b[0;34m,\u001b[0m \u001b[0;34m\"Motor4\"\u001b[0m\u001b[0;34m]\u001b[0m\u001b[0;34m\u001b[0m\u001b[0m\n\u001b[1;32m      5\u001b[0m             \u001b[0;32mprint\u001b[0m \u001b[0mself\u001b[0m\u001b[0;34m\u001b[0m\u001b[0m\n",
      "\u001b[0;32m<ipython-input-105-4697d5022c11>\u001b[0m in \u001b[0;36mStormyPi\u001b[0;34m()\u001b[0m\n\u001b[1;32m     34\u001b[0m             \u001b[0mself\u001b[0m\u001b[0;34m.\u001b[0m\u001b[0mlocked\u001b[0m \u001b[0;34m=\u001b[0m \u001b[0mTrue\u001b[0m\u001b[0;34m\u001b[0m\u001b[0m\n\u001b[1;32m     35\u001b[0m             \u001b[0;32mreturn\u001b[0m \u001b[0mr\u001b[0m\u001b[0;34m\u001b[0m\u001b[0m\n\u001b[0;32m---> 36\u001b[0;31m     \u001b[0mmotors\u001b[0m \u001b[0;34m=\u001b[0m \u001b[0mMotorList\u001b[0m\u001b[0;34m(\u001b[0m\u001b[0;34m)\u001b[0m\u001b[0;34m\u001b[0m\u001b[0m\n\u001b[0m\u001b[1;32m     37\u001b[0m \u001b[0;34m\u001b[0m\u001b[0m\n\u001b[1;32m     38\u001b[0m \u001b[0mpsm\u001b[0m \u001b[0;34m=\u001b[0m \u001b[0mStormyPi\u001b[0m\u001b[0;34m(\u001b[0m\u001b[0;34m)\u001b[0m\u001b[0;34m\u001b[0m\u001b[0m\n",
      "\u001b[0;32m<ipython-input-105-4697d5022c11>\u001b[0m in \u001b[0;36m__init__\u001b[0;34m(self)\u001b[0m\n\u001b[1;32m      4\u001b[0m             \u001b[0mself\u001b[0m\u001b[0;34m.\u001b[0m\u001b[0mlist\u001b[0m \u001b[0;34m=\u001b[0m \u001b[0;34m[\u001b[0m\u001b[0;34m\"Motor1\"\u001b[0m\u001b[0;34m,\u001b[0m \u001b[0;34m\"Motor2\"\u001b[0m\u001b[0;34m,\u001b[0m \u001b[0;34m\"Motor3\"\u001b[0m\u001b[0;34m,\u001b[0m \u001b[0;34m\"Motor4\"\u001b[0m\u001b[0;34m]\u001b[0m\u001b[0;34m\u001b[0m\u001b[0m\n\u001b[1;32m      5\u001b[0m             \u001b[0;32mprint\u001b[0m \u001b[0mself\u001b[0m\u001b[0;34m\u001b[0m\u001b[0m\n\u001b[0;32m----> 6\u001b[0;31m             \u001b[0mself\u001b[0m\u001b[0;34m.\u001b[0m\u001b[0mlocked\u001b[0m \u001b[0;34m=\u001b[0m \u001b[0mTrue\u001b[0m\u001b[0;34m\u001b[0m\u001b[0m\n\u001b[0m\u001b[1;32m      7\u001b[0m         \u001b[0;32mdef\u001b[0m \u001b[0m__getitem__\u001b[0m\u001b[0;34m(\u001b[0m\u001b[0mself\u001b[0m\u001b[0;34m,\u001b[0m \u001b[0mindex\u001b[0m\u001b[0;34m)\u001b[0m\u001b[0;34m:\u001b[0m\u001b[0;34m\u001b[0m\u001b[0m\n\u001b[1;32m      8\u001b[0m             \u001b[0;32mif\u001b[0m \u001b[0;32mnot\u001b[0m \u001b[0mindex\u001b[0m\u001b[0;34m-\u001b[0m\u001b[0;36m1\u001b[0m \u001b[0;32min\u001b[0m \u001b[0mrange\u001b[0m\u001b[0;34m(\u001b[0m\u001b[0;36m4\u001b[0m\u001b[0;34m)\u001b[0m\u001b[0;34m:\u001b[0m\u001b[0;34m\u001b[0m\u001b[0m\n",
      "\u001b[0;32m<ipython-input-105-4697d5022c11>\u001b[0m in \u001b[0;36m__setattr__\u001b[0;34m(self, name, value)\u001b[0m\n\u001b[1;32m     21\u001b[0m         \u001b[0;32mdef\u001b[0m \u001b[0m__setattr__\u001b[0m\u001b[0;34m(\u001b[0m\u001b[0mself\u001b[0m\u001b[0;34m,\u001b[0m \u001b[0mname\u001b[0m\u001b[0;34m,\u001b[0m \u001b[0mvalue\u001b[0m\u001b[0;34m)\u001b[0m\u001b[0;34m:\u001b[0m\u001b[0;34m\u001b[0m\u001b[0m\n\u001b[1;32m     22\u001b[0m             \u001b[0;32mif\u001b[0m \u001b[0mhasattr\u001b[0m\u001b[0;34m(\u001b[0m\u001b[0mself\u001b[0m\u001b[0;34m,\u001b[0m \u001b[0;34m'locked'\u001b[0m\u001b[0;34m)\u001b[0m\u001b[0;34m:\u001b[0m\u001b[0;34m\u001b[0m\u001b[0m\n\u001b[0;32m---> 23\u001b[0;31m                 \u001b[0;32mraise\u001b[0m \u001b[0mAttributeError\u001b[0m\u001b[0;34m(\u001b[0m\u001b[0;34m\"{} does not support attribute assignment.\"\u001b[0m\u001b[0;34m.\u001b[0m\u001b[0mformat\u001b[0m\u001b[0;34m(\u001b[0m\u001b[0mtype\u001b[0m\u001b[0;34m(\u001b[0m\u001b[0mself\u001b[0m\u001b[0;34m)\u001b[0m\u001b[0;34m.\u001b[0m\u001b[0m__name__\u001b[0m\u001b[0;34m)\u001b[0m\u001b[0;34m)\u001b[0m\u001b[0;34m\u001b[0m\u001b[0m\n\u001b[0m\u001b[1;32m     24\u001b[0m             \u001b[0;32melse\u001b[0m\u001b[0;34m:\u001b[0m\u001b[0;34m\u001b[0m\u001b[0m\n\u001b[1;32m     25\u001b[0m                 \u001b[0mobject\u001b[0m\u001b[0;34m.\u001b[0m\u001b[0m__setattr__\u001b[0m\u001b[0;34m(\u001b[0m\u001b[0mself\u001b[0m\u001b[0;34m,\u001b[0m \u001b[0mname\u001b[0m\u001b[0;34m,\u001b[0m \u001b[0mvalue\u001b[0m\u001b[0;34m)\u001b[0m\u001b[0;34m\u001b[0m\u001b[0m\n",
      "\u001b[0;31mAttributeError\u001b[0m: MotorList does not support attribute assignment."
     ]
    }
   ],
   "source": [
    "class StormyPi:\n",
    "    class MotorList(object):\n",
    "        def __init__(self):\n",
    "            self.list = [\"Motor1\", \"Motor2\", \"Motor3\", \"Motor4\"]\n",
    "            self.locked = True\n",
    "        def __getitem__(self, index):\n",
    "            if not index-1 in range(4):\n",
    "                raise IndexError(\"Motor {} does not exist. Try using motors 1-4.\".format(index))\n",
    "            else:\n",
    "                print hasattr(self, 'locked')\n",
    "                del self.locked\n",
    "                print hasattr(self, 'locked')\n",
    "                return self.list[index-1]\n",
    "                self.locked = True\n",
    "        def __getattribute__(self, name):\n",
    "            if hasattr(self, 'locked'):\n",
    "                raise AttributeError(\"{} does not support attribute retrieval.\".format(type(self).__name__))\n",
    "            else:\n",
    "                object.__getattribute__(self, name)\n",
    "        def __setattr__(self, name, value):\n",
    "            if hasattr(self, 'locked'):\n",
    "                raise AttributeError(\"{} does not support attribute assignment.\".format(type(self).__name__))\n",
    "            else:\n",
    "                object.__setattr__(self, name, value)\n",
    "        def __str__(self):\n",
    "            del self.locked\n",
    "            r = self.list.__str__()\n",
    "            self.locked = True\n",
    "            return r\n",
    "        def __repr__(self):\n",
    "            del self.locked\n",
    "            r = self.list.__repr__()\n",
    "            self.locked = True\n",
    "            return r\n",
    "    motors = MotorList()\n",
    "\n",
    "psm = StormyPi()\n",
    "#print psm.motors.list\n",
    "#psm.motors.list = [8,7,5,3]\n",
    "#print psm.motors.list\n",
    "print psm.motors\n",
    "print \"done\""
   ]
  },
  {
   "cell_type": "code",
   "execution_count": 114,
   "metadata": {},
   "outputs": [
    {
     "name": "stdout",
     "output_type": "stream",
     "text": [
      "['Motor1', 'Motor2', 'Motor3', 'Motor4']\n",
      "['Motor1', 'Motor2', 'Motor3', 'Motor4']\n",
      "done\n"
     ]
    }
   ],
   "source": [
    "class StormyPi:\n",
    "    class MotorList(object):\n",
    "        def __init__(self):\n",
    "            self.list = [\"Motor1\", \"Motor2\", \"Motor3\", \"Motor4\"]\n",
    "            self.locked = True\n",
    "        def __getitem__(self, index):\n",
    "            if not index-1 in range(4):\n",
    "                raise IndexError(\"Motor {} does not exist. Try using motors 1-4.\".format(index))\n",
    "            else:\n",
    "                return self.list[index-1]\n",
    "        def __str__(self):\n",
    "            return self.list.__str__()\n",
    "        def __repr__(self):\n",
    "            return self.list.__repr__()\n",
    "    motors = freeze(MotorList())\n",
    "\n",
    "psm = StormyPi()\n",
    "#print psm.motors.list\n",
    "#psm.motors.list = [8,7,5,3]\n",
    "print psm.motors.list\n",
    "print psm.motors\n",
    "print \"done\""
   ]
  },
  {
   "cell_type": "code",
   "execution_count": 226,
   "metadata": {
    "scrolled": true
   },
   "outputs": [
    {
     "name": "stdout",
     "output_type": "stream",
     "text": [
      "['Motor1', 'Motor2', 'Motor3', 'Motor4']\n",
      "Motor2\n",
      "['Motor1', 'Motor2', 'Motor3', 'Motor4']\n"
     ]
    }
   ],
   "source": [
    "class StormyPi:\n",
    "    class MotorList(list):\n",
    "        def __init__(self):\n",
    "            list.__init__(self, [\"Motor1\", \"Motor2\", \"Motor3\", \"Motor4\"])\n",
    "\n",
    "        def __getitem__(self, index):\n",
    "            if not index-1 in range(4):\n",
    "                raise IndexError(\"Motor {} does not exist. Try using motors 1-4.\".format(index))\n",
    "            else:\n",
    "                return list.__getitem__(self, index-1)\n",
    "\n",
    "        def immutable(self):\n",
    "            raise TypeError(\"{} is immutable.\".format(type(self).__name__))\n",
    "        #   __init__, __new__, __del__\n",
    "        #   __weakref__ ?\n",
    "        def __delattr__(self, name):                       self.immutable()\n",
    "        def __delitem__(self, key):                        self.immutable()\n",
    "        def __delslice__(self, i, j):                      self.immutable()\n",
    "        def __getattribute__(self, name):                  self.immutable()\n",
    "        def __iadd__(self, other):                         self.immutable()\n",
    "        def __imul__(self, other):                         self.immutable()\n",
    "        def __setattr__(self, name, value):                self.immutable()\n",
    "        def __setitem__(self, key, value):                 self.immutable()\n",
    "        def __setslice__(self, i, j, sequence):            self.immutable()\n",
    "        def append(self, x):                               self.immutable()\n",
    "        def extend(self, L):                               self.immutable()\n",
    "        def insert(self, i, x):                            self.immutable()\n",
    "        def pop(self, i):                                  self.immutable()\n",
    "        def remove(self, x):                               self.immutable()\n",
    "        def reverse(self):                                 self.immutable()\n",
    "        def sort(self, cmp=None, key=None, reverse=False): self.immutable()\n",
    "    motors = MotorList()\n",
    "\n",
    "psm = StormyPi()\n",
    "print psm.motors\n",
    "print psm.motors[2]"
   ]
  },
  {
   "cell_type": "code",
   "execution_count": null,
   "metadata": {
    "collapsed": true
   },
   "outputs": [],
   "source": [
    "class Immutable:\n",
    "        def immutable(self):\n",
    "            raise TypeError(\"{} is immutable.\".format(self.__class__.__name__))\n",
    "        # __init__, __new__\n",
    "        def __delattr__(self, name):            self.immutable()\n",
    "        def __setattr__(self, name, value):     self.immutable()\n",
    "\n",
    "class StormyPi(Immutable):\n",
    "    class MotorList(list, Immutable):\n",
    "        def __init__(self):\n",
    "            list.__init__(self, [\"Motor1\", \"Motor2\", \"Motor3\", \"Motor4\"])\n",
    "\n",
    "        def __getitem__(self, index):\n",
    "            if not index-1 in range(4):\n",
    "                raise IndexError(\"Motor {} does not exist. Try using motors 1-4.\".format(index))\n",
    "            else:\n",
    "                return list.__getitem__(self, index-1)\n",
    "        def __delattr__(self, name):            self.immutable()\n",
    "        def __delitem__(self, key):             self.immutable()\n",
    "        def __delslice__(self, i, j):           self.immutable()\n",
    "        def __iadd__(self, other):              self.immutable()\n",
    "        def __imul__(self, other):              self.immutable()\n",
    "        def __setattr__(self, name, value):     self.immutable()\n",
    "        def __setitem__(self, key, value):      self.immutable()\n",
    "        def __setslice__(self, i, j, sequence): self.immutable()\n",
    "        def append(self, x):                    self.immutable()\n",
    "        def extend(self, L):                    self.immutable()\n",
    "        def insert(self, i, x):                 self.immutable()\n",
    "        def pop(self, i):                       self.immutable()\n",
    "        def remove(self, x):                    self.immutable()\n",
    "        def reverse(self):                      self.immutable()\n",
    "        def sort(self, cmp=None, key=None,\n",
    "                 reverse=False):                self.immutable()\n",
    "    motors = MotorList()\n"
   ]
  }
 ],
 "metadata": {
  "kernelspec": {
   "display_name": "Python 2",
   "language": "python",
   "name": "python2"
  },
  "language_info": {
   "codemirror_mode": {
    "name": "ipython",
    "version": 2
   },
   "file_extension": ".py",
   "mimetype": "text/x-python",
   "name": "python",
   "nbconvert_exporter": "python",
   "pygments_lexer": "ipython2",
   "version": "2.7.9"
  }
 },
 "nbformat": 4,
 "nbformat_minor": 2
}
